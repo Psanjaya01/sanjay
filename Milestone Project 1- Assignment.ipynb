{
 "cells": [
  {
   "cell_type": "markdown",
   "metadata": {},
   "source": [
    "# Milestone Project 1\n",
    "## Congratulations on making it to your first milestone!\n",
    "You've already learned a ton and are ready to work on a real project.\n",
    "\n",
    "Your assignment: Create a Tic Tac Toe game. You are free to use any IDE you like.\n",
    "\n",
    "Here are the requirements:\n",
    "\n",
    "* 2 players should be able to play the game (both sitting at the same computer)\n",
    "* The board should be printed out every time a player makes a move\n",
    "* You should be able to accept input of the player position and then place a symbol on the board\n",
    "\n",
    "Feel free to use Google to help you figure anything out (but don't just Google \"Tic Tac Toe in Python\" otherwise you won't learn anything!) Keep in mind that this project can take anywhere between several hours to several days.\n",
    "\n",
    "There are 4 Jupyter Notebooks related to this assignment:\n",
    "\n",
    "* This Assignment Notebook\n",
    "* A \"Walk-through Steps Workbook\" Notebook\n",
    "* A \"Walk-through Solution\" Notebook\n",
    "* An \"Advanced Solution\" Notebook\n",
    "\n",
    "I encourage you to just try to start the project on your own without referencing any of the notebooks. If you get stuck, check out the next lecture which is a text lecture with helpful hints and steps. If you're still stuck after that, then check out the walk-through Steps Workbook, which breaks up the project in steps for you to solve. Still stuck? Then check out the walk-through solution video for more help on approaching the project!"
   ]
  },
  {
   "cell_type": "markdown",
   "metadata": {},
   "source": [
    "There are parts of this that will be a struggle...and that is good! I have complete faith that if you have made it this far through the course you have all the tools and knowledge to tackle this project. Remember, its totally open book, so take your time, do a little research, and remember:\n",
    "\n",
    "## HAVE FUN!"
   ]
  },
  {
   "cell_type": "code",
   "execution_count": null,
   "metadata": {
    "collapsed": true
   },
   "outputs": [],
   "source": [
    "def ticTacToe():\n",
    "\t\t\n",
    "\tdef win_check(board,mark):\n",
    "\t\tif board[1]==board[2]==board[3] == mark:\n",
    "\t\t\treturn True\n",
    "\t\telif board[4]==board[5]==board[6] == mark:\n",
    "\t\t\treturn True\n",
    "\t\telif board[7]==board[8]==board[9] == mark:\n",
    "\t\t\treturn True\n",
    "\t\telif board[1]==board[4]==board[7] == mark:\n",
    "\t\t\treturn True\n",
    "\t\telif board[2]==board[5]==board[8] == mark:\n",
    "\t\t\treturn True\n",
    "\t\telif board[3]==board[6]==board[9] == mark:\n",
    "\t\t\treturn True\n",
    "\t\telif board[1]==board[5]==board[9] == mark:\n",
    "\t\t\treturn True\n",
    "\t\telif board[7]==board[5]==board[3] == mark:\n",
    "\t\t\treturn True\n",
    "\t\telse:\n",
    "\t\t\treturn False\n",
    "\n",
    "\tdef player_input():\n",
    "\n",
    "\t\tmarker = ''\n",
    "\t\twhile not (marker == 'O' or marker == 'X'):\n",
    "\t\t\tmarker = input('Player 1: Do you want to be X or O?').upper()\n",
    "\n",
    "\t\tif marker == 'X':\n",
    "\t\t\treturn ('X','O')\n",
    "\t\telse:\n",
    "\t\t\treturn ('O','X')\n",
    "\n",
    "\tdef place_marker(board, marker, position):\n",
    "\t\tboard[position] = marker\n",
    "\n",
    "\timport random\n",
    "\tdef choose_first():\n",
    "\t\tif random.randint(0,1) == 0:\n",
    "\t\t\treturn 'Player 1'\n",
    "\t\telse:\n",
    "\t\t\treturn 'Player 2'\n",
    "\n",
    "\tdef space_check(board,position):\n",
    "\n",
    "\t\treturn board[position] == '-'\n",
    "\n",
    "\tdef full_board_check(board):\n",
    "\n",
    "\t\tfor i in range(1,10):\n",
    "\t\t\tif space_check(board,i):\n",
    "\t\t\t\treturn False\n",
    "\t\treturn True\n",
    "\n",
    "\tdef player_choice(board):\n",
    "\n",
    "\t\tposition = '-'\n",
    "\n",
    "\t\twhile position not in '1 2 3 4 5 6 7 8 9'.split() or not space_check(board,int(position)):\n",
    "\t\t\tposition = input('Choose your next position : (1-9)')\n",
    "\t\treturn int(position)\n",
    "\n",
    "\tdef replay():\n",
    "\t\treturn input('Do you want to play again? Enter Yes or No').lower().startswith('y')\n",
    "\n",
    "\tdef display_board(board):\n",
    "\t\tfrom IPython.display import clear_output\n",
    "\t\tclear_output()\n",
    "\t\tprint(\"%s%s%s\" % (board[7],board[8],board[9]))\n",
    "\t\tprint(\"%s%s%s\" % (board[4],board[5],board[6]))\n",
    "\t\tprint(\"%s%s%s\" % (board[1],board[2],board[3]))\n",
    "\n",
    "\tprint('Welcome to Tic Tac Toe!')\n",
    "\n",
    "\twhile True:\n",
    "\t\tgameboard = [0,'-', '-', '-', '-', '-', '-', '-', '-', '-']\n",
    "\t\tplayer1_marker, player2_marker = player_input()\n",
    "\t\tturn = choose_first()\n",
    "\t\tprint(turn,' will go first!')\n",
    "\n",
    "\t\tgame_on = True\n",
    "\t\twhile game_on:\n",
    "\t\t\tif turn == 'Player 1'\n",
    "\n",
    "\t\t\t\tdisplay_board(gameboard)\n",
    "\t\t\t\tposition = player_choice(gameboard)\n",
    "\t\t\t\tplace_marker(gameboard,player1_marker,position)\n",
    "\n",
    "\t\t\t\tif win_check(gameboard,player1_marker):\n",
    "\t\t\t\t\tdisplay_board(gameboard)\n",
    "\t\t\t\t\tprint('Congratulations, Player 1 has won the game!')\n",
    "\t\t\t\t\tgame_on = False\n",
    "\t\t\t\telse:\n",
    "\t\t\t\t\tif full_board_check(gameboard):\n",
    "\t\t\t\t\t\tdisplay_board(gameboard)\n",
    "\t\t\t\t\t\tprint('The game is a draw!')\n",
    "\t\t\t\t\t\tbreak\n",
    "\t\t\t\t\telse:\n",
    "\t\t\t\t\t\tturn = 'Player 2'\n",
    "\t\t\telse:\n",
    "\t\t\t\tdisplay_board(gameboard)\n",
    "\t\t\t\tposition = player_choice(gameboard)\n",
    "\t\t\t\tplace_marker(gameboard,player2_marker,position)\n",
    "\n",
    "\t\t\t\tif win_check(gameboard,player2_marker):\n",
    "\t\t\t\t\tdisplay_board(gameboard)\n",
    "\t\t\t\t\tprint('Congratulations, Player 2 has won the game!')\n",
    "\t\t\t\t\tgame_on = False\n",
    "\t\t\t\telse:\n",
    "\t\t\t\t\tif full_board_check(gameboard):\n",
    "\t\t\t\t\t\tdisplay_board(gameboard)\n",
    "\t\t\t\t\t\tprint('The game is a draw!')\n",
    "\t\t\t\t\t\tbreak\n",
    "\t\t\t\t\telse:\n",
    "\t\t\t\t\t\tturn = 'Player 1'\n",
    "\t\tif not replay():\n",
    "\t\t\tbreak"
   ]
  },
  {
   "cell_type": "code",
   "execution_count": null,
   "metadata": {
    "collapsed": true
   },
   "outputs": [],
   "source": [
    "ticTacToe()"
   ]
  },
  {
   "cell_type": "code",
   "execution_count": null,
   "metadata": {
    "collapsed": true
   },
   "outputs": [],
   "source": []
  },
  {
   "cell_type": "code",
   "execution_count": null,
   "metadata": {
    "collapsed": true
   },
   "outputs": [],
   "source": [
    "ticTacToe()"
   ]
  },
  {
   "cell_type": "code",
   "execution_count": null,
   "metadata": {
    "collapsed": true
   },
   "outputs": [],
   "source": []
  }
 ],
 "metadata": {
  "kernelspec": {
   "display_name": "Python 3",
   "language": "python",
   "name": "python3"
  },
  "language_info": {
   "codemirror_mode": {
    "name": "ipython",
    "version": 3
   },
   "file_extension": ".py",
   "mimetype": "text/x-python",
   "name": "python",
   "nbconvert_exporter": "python",
   "pygments_lexer": "ipython3",
   "version": "3.6.1"
  }
 },
 "nbformat": 4,
 "nbformat_minor": 1
}
